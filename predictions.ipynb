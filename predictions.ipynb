{
 "cells": [
  {
   "cell_type": "code",
   "execution_count": 145,
   "id": "c71d9119-fed1-4a6a-b787-51163af57343",
   "metadata": {},
   "outputs": [],
   "source": [
    "# Importing libraries \n",
    "import pandas as pd  \n",
    "import numpy as np  "
   ]
  },
  {
   "cell_type": "code",
   "execution_count": 146,
   "id": "38dccadd-aa9c-436b-9644-fcd1b2013bad",
   "metadata": {},
   "outputs": [],
   "source": [
    "phishing = pd.read_csv(\"C:\\\\Users\\\\HP\\\\Downloads\\\\archive (1)\\\\phishing.csv\")"
   ]
  },
  {
   "cell_type": "code",
   "execution_count": 147,
   "id": "adaeb1ad-1605-4bab-891a-cb53a25fc67f",
   "metadata": {},
   "outputs": [],
   "source": [
    "from sklearn.model_selection import train_test_split, cross_val_score"
   ]
  },
  {
   "cell_type": "code",
   "execution_count": 148,
   "id": "6cb42fbd-81ec-43ea-9e56-a51390d694bf",
   "metadata": {},
   "outputs": [
    {
     "data": {
      "text/html": [
       "<div>\n",
       "<style scoped>\n",
       "    .dataframe tbody tr th:only-of-type {\n",
       "        vertical-align: middle;\n",
       "    }\n",
       "\n",
       "    .dataframe tbody tr th {\n",
       "        vertical-align: top;\n",
       "    }\n",
       "\n",
       "    .dataframe thead th {\n",
       "        text-align: right;\n",
       "    }\n",
       "</style>\n",
       "<table border=\"1\" class=\"dataframe\">\n",
       "  <thead>\n",
       "    <tr style=\"text-align: right;\">\n",
       "      <th></th>\n",
       "      <th>UsingIP</th>\n",
       "      <th>LongURL</th>\n",
       "      <th>ShortURL</th>\n",
       "      <th>Symbol@</th>\n",
       "      <th>Redirecting//</th>\n",
       "      <th>PrefixSuffix-</th>\n",
       "      <th>SubDomains</th>\n",
       "      <th>HTTPS</th>\n",
       "      <th>DomainRegLen</th>\n",
       "      <th>Favicon</th>\n",
       "      <th>...</th>\n",
       "      <th>DisableRightClick</th>\n",
       "      <th>UsingPopupWindow</th>\n",
       "      <th>IframeRedirection</th>\n",
       "      <th>AgeofDomain</th>\n",
       "      <th>DNSRecording</th>\n",
       "      <th>WebsiteTraffic</th>\n",
       "      <th>PageRank</th>\n",
       "      <th>GoogleIndex</th>\n",
       "      <th>LinksPointingToPage</th>\n",
       "      <th>StatsReport</th>\n",
       "    </tr>\n",
       "  </thead>\n",
       "  <tbody>\n",
       "    <tr>\n",
       "      <th>0</th>\n",
       "      <td>1</td>\n",
       "      <td>1</td>\n",
       "      <td>1</td>\n",
       "      <td>1</td>\n",
       "      <td>1</td>\n",
       "      <td>-1</td>\n",
       "      <td>0</td>\n",
       "      <td>1</td>\n",
       "      <td>-1</td>\n",
       "      <td>1</td>\n",
       "      <td>...</td>\n",
       "      <td>1</td>\n",
       "      <td>1</td>\n",
       "      <td>1</td>\n",
       "      <td>-1</td>\n",
       "      <td>-1</td>\n",
       "      <td>0</td>\n",
       "      <td>-1</td>\n",
       "      <td>1</td>\n",
       "      <td>1</td>\n",
       "      <td>1</td>\n",
       "    </tr>\n",
       "    <tr>\n",
       "      <th>1</th>\n",
       "      <td>1</td>\n",
       "      <td>0</td>\n",
       "      <td>1</td>\n",
       "      <td>1</td>\n",
       "      <td>1</td>\n",
       "      <td>-1</td>\n",
       "      <td>-1</td>\n",
       "      <td>-1</td>\n",
       "      <td>-1</td>\n",
       "      <td>1</td>\n",
       "      <td>...</td>\n",
       "      <td>1</td>\n",
       "      <td>1</td>\n",
       "      <td>1</td>\n",
       "      <td>1</td>\n",
       "      <td>-1</td>\n",
       "      <td>1</td>\n",
       "      <td>-1</td>\n",
       "      <td>1</td>\n",
       "      <td>0</td>\n",
       "      <td>-1</td>\n",
       "    </tr>\n",
       "    <tr>\n",
       "      <th>2</th>\n",
       "      <td>1</td>\n",
       "      <td>0</td>\n",
       "      <td>1</td>\n",
       "      <td>1</td>\n",
       "      <td>1</td>\n",
       "      <td>-1</td>\n",
       "      <td>-1</td>\n",
       "      <td>-1</td>\n",
       "      <td>1</td>\n",
       "      <td>1</td>\n",
       "      <td>...</td>\n",
       "      <td>1</td>\n",
       "      <td>1</td>\n",
       "      <td>1</td>\n",
       "      <td>-1</td>\n",
       "      <td>-1</td>\n",
       "      <td>1</td>\n",
       "      <td>-1</td>\n",
       "      <td>1</td>\n",
       "      <td>-1</td>\n",
       "      <td>1</td>\n",
       "    </tr>\n",
       "    <tr>\n",
       "      <th>3</th>\n",
       "      <td>1</td>\n",
       "      <td>0</td>\n",
       "      <td>-1</td>\n",
       "      <td>1</td>\n",
       "      <td>1</td>\n",
       "      <td>-1</td>\n",
       "      <td>1</td>\n",
       "      <td>1</td>\n",
       "      <td>-1</td>\n",
       "      <td>1</td>\n",
       "      <td>...</td>\n",
       "      <td>1</td>\n",
       "      <td>-1</td>\n",
       "      <td>1</td>\n",
       "      <td>-1</td>\n",
       "      <td>-1</td>\n",
       "      <td>0</td>\n",
       "      <td>-1</td>\n",
       "      <td>1</td>\n",
       "      <td>1</td>\n",
       "      <td>1</td>\n",
       "    </tr>\n",
       "    <tr>\n",
       "      <th>4</th>\n",
       "      <td>-1</td>\n",
       "      <td>0</td>\n",
       "      <td>-1</td>\n",
       "      <td>1</td>\n",
       "      <td>-1</td>\n",
       "      <td>-1</td>\n",
       "      <td>1</td>\n",
       "      <td>1</td>\n",
       "      <td>-1</td>\n",
       "      <td>1</td>\n",
       "      <td>...</td>\n",
       "      <td>1</td>\n",
       "      <td>1</td>\n",
       "      <td>1</td>\n",
       "      <td>1</td>\n",
       "      <td>1</td>\n",
       "      <td>1</td>\n",
       "      <td>-1</td>\n",
       "      <td>1</td>\n",
       "      <td>-1</td>\n",
       "      <td>-1</td>\n",
       "    </tr>\n",
       "  </tbody>\n",
       "</table>\n",
       "<p>5 rows × 30 columns</p>\n",
       "</div>"
      ],
      "text/plain": [
       "   UsingIP  LongURL  ShortURL  Symbol@  Redirecting//  PrefixSuffix-  \\\n",
       "0        1        1         1        1              1             -1   \n",
       "1        1        0         1        1              1             -1   \n",
       "2        1        0         1        1              1             -1   \n",
       "3        1        0        -1        1              1             -1   \n",
       "4       -1        0        -1        1             -1             -1   \n",
       "\n",
       "   SubDomains  HTTPS  DomainRegLen  Favicon  ...  DisableRightClick  \\\n",
       "0           0      1            -1        1  ...                  1   \n",
       "1          -1     -1            -1        1  ...                  1   \n",
       "2          -1     -1             1        1  ...                  1   \n",
       "3           1      1            -1        1  ...                  1   \n",
       "4           1      1            -1        1  ...                  1   \n",
       "\n",
       "   UsingPopupWindow  IframeRedirection  AgeofDomain  DNSRecording  \\\n",
       "0                 1                  1           -1            -1   \n",
       "1                 1                  1            1            -1   \n",
       "2                 1                  1           -1            -1   \n",
       "3                -1                  1           -1            -1   \n",
       "4                 1                  1            1             1   \n",
       "\n",
       "   WebsiteTraffic  PageRank  GoogleIndex  LinksPointingToPage  StatsReport  \n",
       "0               0        -1            1                    1            1  \n",
       "1               1        -1            1                    0           -1  \n",
       "2               1        -1            1                   -1            1  \n",
       "3               0        -1            1                    1            1  \n",
       "4               1        -1            1                   -1           -1  \n",
       "\n",
       "[5 rows x 30 columns]"
      ]
     },
     "execution_count": 148,
     "metadata": {},
     "output_type": "execute_result"
    }
   ],
   "source": [
    "#creating input class and target \n",
    "X = phishing.iloc[:, 1:-1]  # Select all columns except the first and last\n",
    "\n",
    "Y = phishing['class']\n",
    "Y = pd.DataFrame(Y)\n",
    "\n",
    "X.head()\n"
   ]
  },
  {
   "cell_type": "code",
   "execution_count": 149,
   "id": "6254a30d-bf62-42ec-ae3f-2cb82bfc8c31",
   "metadata": {},
   "outputs": [],
   "source": [
    "train_X, test_X, train_Y, test_Y = train_test_split(X, Y, test_size=0.2, random_state=2)"
   ]
  },
  {
   "cell_type": "code",
   "execution_count": 150,
   "id": "bcb703b4-551d-40d2-9a2d-820ddb2aac66",
   "metadata": {},
   "outputs": [],
   "source": [
    "from sklearn.tree import DecisionTreeClassifier"
   ]
  },
  {
   "cell_type": "code",
   "execution_count": 164,
   "id": "d653aafc-1214-4745-b9f6-d3e0f5672491",
   "metadata": {},
   "outputs": [],
   "source": [
    "dtree = DecisionTreeClassifier()\n",
    "model_3 = dtree.fit(train_X, train_Y)\n"
   ]
  },
  {
   "cell_type": "code",
   "execution_count": 165,
   "id": "1eb7e99b-1593-4477-ac41-5618adb98b03",
   "metadata": {},
   "outputs": [],
   "source": [
    "dtree_predict = model_3.predict(test_X)"
   ]
  },
  {
   "cell_type": "code",
   "execution_count": 166,
   "id": "e62a5603-98dd-496e-b570-69fe4e93501e",
   "metadata": {},
   "outputs": [],
   "source": [
    "\n",
    "from sklearn.metrics import accuracy_score, confusion_matrix, classification_report\n"
   ]
  },
  {
   "cell_type": "code",
   "execution_count": 167,
   "id": "2707db1e-392d-4fa6-8383-c1c320a4eaae",
   "metadata": {},
   "outputs": [
    {
     "data": {
      "text/plain": [
       "0.9629"
      ]
     },
     "execution_count": 167,
     "metadata": {},
     "output_type": "execute_result"
    }
   ],
   "source": [
    "round(accuracy_score(dtree_predict, test_Y),4)"
   ]
  },
  {
   "cell_type": "code",
   "execution_count": 168,
   "id": "91b4fdb2-2d15-4ac3-a009-eabde9292acd",
   "metadata": {},
   "outputs": [
    {
     "name": "stdout",
     "output_type": "stream",
     "text": [
      "30\n"
     ]
    }
   ],
   "source": [
    "print(model_3.n_features_in_)  # Number of input features\n"
   ]
  },
  {
   "cell_type": "code",
   "execution_count": 169,
   "id": "e009f423-102c-4616-8615-1a692f1ba9bf",
   "metadata": {},
   "outputs": [
    {
     "name": "stdout",
     "output_type": "stream",
     "text": [
      "['UsingIP' 'LongURL' 'ShortURL' 'Symbol@' 'Redirecting//' 'PrefixSuffix-'\n",
      " 'SubDomains' 'HTTPS' 'DomainRegLen' 'Favicon' 'NonStdPort'\n",
      " 'HTTPSDomainURL' 'RequestURL' 'AnchorURL' 'LinksInScriptTags'\n",
      " 'ServerFormHandler' 'InfoEmail' 'AbnormalURL' 'WebsiteForwarding'\n",
      " 'StatusBarCust' 'DisableRightClick' 'UsingPopupWindow'\n",
      " 'IframeRedirection' 'AgeofDomain' 'DNSRecording' 'WebsiteTraffic'\n",
      " 'PageRank' 'GoogleIndex' 'LinksPointingToPage' 'StatsReport']\n"
     ]
    }
   ],
   "source": [
    "print(model_3.feature_names_in_)  # Feature names used in training\n"
   ]
  },
  {
   "cell_type": "code",
   "execution_count": 188,
   "id": "e81d7f57-814d-4ae0-a2fc-3f361405b02b",
   "metadata": {},
   "outputs": [
    {
     "name": "stdout",
     "output_type": "stream",
     "text": [
      "[[-1 -1 -1 -1 -1 -1  0  1  1  1 -1 -1 -1  0 -1 -1 -1  1 -1  1  1  1 -1  1\n",
      "   1 -1 -1 -1 -1 -1]]\n"
     ]
    }
   ],
   "source": [
    "\n",
    "import re\n",
    "import socket\n",
    "import requests\n",
    "import whois\n",
    "import datetime\n",
    "import numpy as np\n",
    "from bs4 import BeautifulSoup\n",
    "from urllib.parse import urlparse\n",
    "\n",
    "# API Keys (Replace with real keys)\n",
    "VIRUSTOTAL_API_KEY = \"c4f5a97033cd6aa4116c9ecf0b4f0c97c5da8e0bd5240adf4c36e548c3b226bb\"\n",
    "SIMILARWEB_API_KEY = \"your_similarweb_api_key\"\n",
    "OPENPAGERANK_API_KEY = \"s4o4sc8cokcg0ks884csgskgsgo4s4swcg00kkgk \"\n",
    "\n",
    "# Function to extract features from a URL\n",
    "def extract_url_features(url):\n",
    "    try:\n",
    "        response = requests.get(url, timeout=5)\n",
    "        soup = BeautifulSoup(response.text, 'html.parser')\n",
    "    except:\n",
    "        response = None\n",
    "        soup = None\n",
    "\n",
    "    domain = urlparse(url).netloc\n",
    "    features = []\n",
    "\n",
    "    # 1️⃣-7️⃣ URL & Domain-based Features\n",
    "    features.append(1 if re.match(r'\\d+\\.\\d+\\.\\d+\\.\\d+', domain) else -1)  # Using IP\n",
    "    features.append(1 if len(url) > 75 else -1)  # Long URL\n",
    "    features.append(1 if len(url) < 15 else -1)  # Short URL\n",
    "    features.append(1 if '@' in url else -1)  # Symbol @\n",
    "    features.append(1 if url.count('//') > 1 else -1)  # Redirecting //\n",
    "    features.append(1 if '-' in domain else -1)  # Prefix Suffix -\n",
    "    features.append(-1 if domain.count('.') == 1 else (0 if domain.count('.') == 2 else 1))  # Sub Domains\n",
    "\n",
    "    # 8️⃣-1️⃣2️⃣ Security & Domain Registration\n",
    "    features.append(1 if url.startswith(\"https\") else -1)  # HTTPS\n",
    "    \n",
    "    # Domain registration length\n",
    "    try:\n",
    "        domain_info = whois.whois(domain)\n",
    "        expiration_date = domain_info.expiration_date\n",
    "        expiration_date = expiration_date[0] if isinstance(expiration_date, list) else expiration_date\n",
    "        domain_reg_len = (expiration_date - datetime.datetime.now()).days if expiration_date else 0\n",
    "    except:\n",
    "        domain_reg_len = 0\n",
    "    features.append(1 if domain_reg_len >= 365 else -1)  # Domain Registration Length\n",
    "    \n",
    "    features.append(1 if soup and soup.find(\"link\", rel=\"shortcut icon\") else -1)  # Favicon\n",
    "    features.append(1 if ':' in domain else -1)  # Non-Standard Port\n",
    "    features.append(1 if \"https\" in domain else -1)  # HTTPS in Domain\n",
    "\n",
    "    # 1️⃣3️⃣-1️⃣8️⃣ External Links & Scripts\n",
    "    try:\n",
    "        img_count = len(soup.find_all(\"img\"))\n",
    "        external_img_count = sum(1 for img in soup.find_all(\"img\") if urlparse(img.get(\"src\", \"\")).netloc != domain)\n",
    "        features.append(-1 if img_count and (external_img_count / img_count) > 0.5 else 1)  # Request URL\n",
    "    except:\n",
    "        features.append(-1)\n",
    "\n",
    "    try:\n",
    "        a_tags = soup.find_all(\"a\")\n",
    "        external_anchors = sum(1 for a in a_tags if urlparse(a.get(\"href\", \"\")).netloc != domain)\n",
    "        external_ratio = external_anchors / len(a_tags) if a_tags else 0\n",
    "        features.append(-1 if external_ratio > 0.67 else (0 if external_ratio > 0.33 else 1))  # Anchor URL\n",
    "    except:\n",
    "        features.append(-1)\n",
    "\n",
    "    try:\n",
    "        scripts = soup.find_all(\"script\")\n",
    "        external_scripts = sum(1 for s in scripts if s.has_attr(\"src\") and urlparse(s[\"src\"]).netloc != domain)\n",
    "        features.append(-1 if scripts and (external_scripts / len(scripts)) > 0.5 else 1)  # Links In Script Tags\n",
    "    except:\n",
    "        features.append(-1)\n",
    "\n",
    "    try:\n",
    "        forms = soup.find_all(\"form\")\n",
    "        external_forms = any(form.has_attr(\"action\") and urlparse(form[\"action\"]).netloc != domain for form in forms)\n",
    "        features.append(-1 if external_forms else 1)  # Server Form Handler\n",
    "    except:\n",
    "        features.append(-1)\n",
    "\n",
    "    features.append(1 if \"mailto:\" in url else -1)  # Info Email\n",
    "    \n",
    "    try:\n",
    "        features.append(1 if whois.whois(domain).domain_name else -1)  # Abnormal URL\n",
    "    except:\n",
    "        features.append(-1)\n",
    "\n",
    "    features.append(1 if response and len(response.history) > 2 else -1)  # Website Forwarding\n",
    "\n",
    "    # 1️⃣9️⃣-2️⃣6️⃣ JavaScript & Domain Age\n",
    "    try:\n",
    "        features.append(-1 if any(\"window.status\" in script.text for script in scripts) else 1)  # Status Bar Cust\n",
    "        features.append(-1 if any(\"event.button == 2\" in script.text for script in scripts) else 1)  # Disable Right Click\n",
    "        features.append(-1 if any(\"window.open\" in script.text for script in scripts) else 1)  # Using Popup Window\n",
    "    except:\n",
    "        features.append(-1)\n",
    "\n",
    "    features.append(-1 if soup and soup.find_all(\"iframe\") else 1)  # Iframe Redirection\n",
    "\n",
    "    try:\n",
    "        age_of_domain = (datetime.datetime.now() - domain_info.creation_date).days if domain_info.creation_date else 0\n",
    "    except:\n",
    "        age_of_domain = 0\n",
    "    features.append(1 if age_of_domain >= 365 else -1)  # Age of Domain\n",
    "\n",
    "    try:\n",
    "        features.append(1 if socket.gethostbyname(domain) else -1)  # DNS Recording\n",
    "    except:\n",
    "        features.append(-1)\n",
    "\n",
    "    # External API-based Features (Ensure default values if API fails)\n",
    "    try:\n",
    "        website_traffic = -1  # Placeholder (Replace with actual API call if needed)\n",
    "        features.append(website_traffic)\n",
    "    except:\n",
    "        features.append(-1)\n",
    "\n",
    "    try:\n",
    "        page_rank = -1  # Placeholder (Replace with actual API call if needed)\n",
    "        features.append(page_rank)\n",
    "    except:\n",
    "        features.append(-1)\n",
    "\n",
    "    try:\n",
    "        google_indexed = -1  # Placeholder (Replace with actual API call if needed)\n",
    "        features.append(google_indexed)\n",
    "    except:\n",
    "        features.append(-1)\n",
    "\n",
    "    try:\n",
    "        backlinks = -1  # Placeholder (Replace with actual API call if needed)\n",
    "        features.append(backlinks)\n",
    "    except:\n",
    "        features.append(-1)\n",
    "\n",
    "    try:\n",
    "        malware_check = -1  # Placeholder (Replace with actual API call if needed)\n",
    "        features.append(malware_check)\n",
    "    except:\n",
    "        features.append(-1)\n",
    "\n",
    "    # ✅ Ensure fixed feature vector size\n",
    "    while len(features) < 30:\n",
    "        features.append(0)  # Add placeholder values for missing features\n",
    "\n",
    "    return np.array(features).reshape(1, -1)\n",
    "\n",
    "# Example Usage\n",
    "url = \"https://www.thapar.edu/academics/centers/thapar-lms65\"\n",
    "features = extract_url_features(url)\n",
    "print(features)\n",
    "\n"
   ]
  },
  {
   "cell_type": "code",
   "execution_count": 187,
   "id": "f57d5c97-da75-422b-b5c9-0db755051ae7",
   "metadata": {},
   "outputs": [
    {
     "name": "stdout",
     "output_type": "stream",
     "text": [
      "Prediction: Legit\n"
     ]
    },
    {
     "name": "stderr",
     "output_type": "stream",
     "text": [
      "C:\\Users\\HP\\AppData\\Local\\Programs\\Python\\Python312\\Lib\\site-packages\\sklearn\\utils\\validation.py:2739: UserWarning: X does not have valid feature names, but DecisionTreeClassifier was fitted with feature names\n",
      "  warnings.warn(\n"
     ]
    }
   ],
   "source": [
    "import joblib\n",
    "\n",
    "# Save the model as a file\n",
    "joblib.dump(model, \"model_3.joblib\")\n",
    "\n",
    "# Load the saved model\n",
    "model = joblib.load(\"model_3.joblib\")\n",
    "\n",
    "\n",
    "# Extract features\n",
    "X_input = extract_url_features(url)\n",
    "\n",
    "prediction = model.predict(X_input)[0]\n",
    "print(f\"Prediction: {'Fake' if prediction == 1 else 'Legit'}\")\n",
    "\n",
    "\n"
   ]
  },
  {
   "cell_type": "code",
   "execution_count": 144,
   "id": "ebd3d8f8-1574-4830-b35f-6dad7bcbf052",
   "metadata": {},
   "outputs": [
    {
     "name": "stdout",
     "output_type": "stream",
     "text": [
      "{-1: 3931, 1: 4912}\n"
     ]
    }
   ],
   "source": [
    "import numpy as np\n",
    "unique, counts = np.unique(train_Y, return_counts=True)\n",
    "print(dict(zip(unique, counts)))\n"
   ]
  },
  {
   "cell_type": "code",
   "execution_count": 189,
   "id": "102f0651-8609-459f-ba48-d6009013e1a5",
   "metadata": {},
   "outputs": [
    {
     "name": "stdout",
     "output_type": "stream",
     "text": [
      "[[-1 -1 -1 -1 -1 -1  0  1  1  1 -1 -1 -1  0 -1 -1 -1  1 -1  1  1  1 -1  1\n",
      "   1 -1 -1 -1 -1 -1]]\n",
      "Prediction: Fake\n"
     ]
    },
    {
     "name": "stderr",
     "output_type": "stream",
     "text": [
      "C:\\Users\\HP\\AppData\\Local\\Programs\\Python\\Python312\\Lib\\site-packages\\sklearn\\utils\\validation.py:2739: UserWarning: X does not have valid feature names, but DecisionTreeClassifier was fitted with feature names\n",
      "  warnings.warn(\n"
     ]
    }
   ],
   "source": [
    "# example two\n",
    "url = \"\"\n",
    "features = extract_url_features(url)\n",
    "print(features)\n",
    "import joblib\n",
    "\n",
    "# Save the model as a file\n",
    "joblib.dump(model, \"model_3.joblib\")\n",
    "\n",
    "# Load the saved model\n",
    "model = joblib.load(\"model_3.joblib\")\n",
    "\n",
    "\n",
    "# Extract features\n",
    "X_input = extract_url_features(url)\n",
    "\n",
    "prediction = model.predict(X_input)[0]\n",
    "print(f\"Prediction: {'Fake' if prediction == 1 else 'Legit'}\")\n"
   ]
  },
  {
   "cell_type": "code",
   "execution_count": null,
   "id": "b4038709-7238-4686-a77d-bb0e453064bf",
   "metadata": {},
   "outputs": [],
   "source": []
  }
 ],
 "metadata": {
  "kernelspec": {
   "display_name": "Python 3 (ipykernel)",
   "language": "python",
   "name": "python3"
  },
  "language_info": {
   "codemirror_mode": {
    "name": "ipython",
    "version": 3
   },
   "file_extension": ".py",
   "mimetype": "text/x-python",
   "name": "python",
   "nbconvert_exporter": "python",
   "pygments_lexer": "ipython3",
   "version": "3.12.4"
  }
 },
 "nbformat": 4,
 "nbformat_minor": 5
}
